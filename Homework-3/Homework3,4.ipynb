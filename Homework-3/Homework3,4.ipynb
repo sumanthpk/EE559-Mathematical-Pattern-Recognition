{
 "cells": [
  {
   "cell_type": "code",
   "execution_count": 112,
   "metadata": {},
   "outputs": [
    {
     "name": "stdout",
     "output_type": "stream",
     "text": [
      "(8, 42)\n"
     ]
    }
   ],
   "source": [
    "import pandas as pd\n",
    "import numpy as np\n",
    "\n",
    "\n",
    "path =\"/Users/sumanthkakani/Documents/EE559-Mathematical-Pattern-Recognition/Homework-3/AReM/\";\n",
    "col=['time', 'avg_rss12','var_rss12', 'avg_rss13','var_rss13','avg_rss23','var_rss23'];\n",
    "\n",
    "\n",
    "\n",
    "\n",
    "bending1 = {}\n",
    "keys1 = [\"bending1_df1\",\"bending1_df2\",\"bending1_df3\",\"bending1_df4\",\"bending1_df5\",\"bending1_df6\",\"bending1_df7\"];\n",
    "i=1;\n",
    "\n",
    "for key in keys1:\n",
    "    bending1[key] =  pd.read_csv(path + \"bending1/dataset\"+str(i)+\".csv\", skiprows=4, header=0, names=col).values; \n",
    "    i=i+1;\n",
    "\n",
    "# we need to cal min, max, mean, standard deviation, first quartile and third quartile.\n",
    "x=[]\n",
    "I = [1,2,3,4,5,6];\n",
    "bending1_data= [\"min1\",\"max1\",\"mean1\",\"std1\",\"median1\",\"1st quar1\",\"3rd quar1\",\n",
    "               \"min2\",\"max2\",\"mean2\",\"std2\",\"median2\",\"1st quar2\",\"3rd quar2\",\n",
    "               \"min3\",\"max3\",\"mean3\",\"std3\",\"median3\",\"1st quar3\",\"3rd quar3\",\n",
    "               \"min4\",\"max4\",\"mean4\",\"std4\",\"median4\",\"1st quar4\",\"3rd quar4\",\n",
    "               \"min5\",\"max5\",\"mean5\",\"std5\",\"median5\",\"1st quar5\",\"3rd quar5\",\n",
    "               \"min6\",\"max6\",\"mean6\",\"std6\",\"median6\",\"1st quar6\",\"3rd quar6\"];\n",
    "\n",
    "for key in keys1:\n",
    "    for i in I:\n",
    "        temp = [min(bending1[key][:,i]), max(bending1[key][:,i]), np.mean(bending1[key][:,i]), np.std(bending1[key][:,i]), \n",
    "          np.percentile(bending1[key][:,i],50), np.percentile(bending1[key][:,i],25), np.percentile(bending1[key][:,i],75)]\n",
    "        x = x + temp;   \n",
    "    bending1_data = np.vstack((bending1_data,x));\n",
    "    x=[]; \n",
    "\n",
    "print(np.shape(bending1_data))    \n",
    "#print((bending1[\"bending1_df1\"][:,0]));"
   ]
  },
  {
   "cell_type": "code",
   "execution_count": 113,
   "metadata": {},
   "outputs": [
    {
     "name": "stdout",
     "output_type": "stream",
     "text": [
      "(7, 42)\n"
     ]
    }
   ],
   "source": [
    "\n",
    "bending2 = {}\n",
    "keys2 = [\"bending2_df1\",\"bending2_df2\",\"bending2_df3\",\"bending2_df4\",\"bending2_df5\",\"bending2_df6\"];\n",
    "i=1;\n",
    "\n",
    "for key in keys2:\n",
    "    bending2[key] =  pd.read_csv(path + \"bending2/dataset\"+str(i)+\".csv\", skiprows=4, header=0, names=col).values; \n",
    "    i=i+1;\n",
    "\n",
    "# we need to cal min, max, mean, standard deviation, first quartile and third quartile.\n",
    "x=[]\n",
    "I = [1,2,3,4,5,6];\n",
    "bending2_data= [\"min1\",\"max1\",\"mean1\",\"std1\",\"median1\",\"1st quar1\",\"3rd quar1\",\n",
    "               \"min2\",\"max2\",\"mean2\",\"std2\",\"median2\",\"1st quar2\",\"3rd quar2\",\n",
    "               \"min3\",\"max3\",\"mean3\",\"std3\",\"median3\",\"1st quar3\",\"3rd quar3\",\n",
    "               \"min4\",\"max4\",\"mean4\",\"std4\",\"median4\",\"1st quar4\",\"3rd quar4\",\n",
    "               \"min5\",\"max5\",\"mean5\",\"std5\",\"median5\",\"1st quar5\",\"3rd quar5\",\n",
    "               \"min6\",\"max6\",\"mean6\",\"std6\",\"median6\",\"1st quar6\",\"3rd quar6\"];\n",
    "\n",
    "for key in keys2:\n",
    "    for i in I:\n",
    "        temp = [min(bending2[key][:,i]), max(bending2[key][:,i]), np.mean(bending2[key][:,i]), np.std(bending2[key][:,i]), \n",
    "          np.percentile(bending2[key][:,i],50), np.percentile(bending2[key][:,i],25), np.percentile(bending2[key][:,i],75)]\n",
    "        x = x + temp;   \n",
    "    bending2_data = np.vstack((bending2_data,x));\n",
    "    x=[]; \n",
    "\n",
    "print(np.shape(bending2_data)) "
   ]
  },
  {
   "cell_type": "code",
   "execution_count": 114,
   "metadata": {},
   "outputs": [
    {
     "name": "stdout",
     "output_type": "stream",
     "text": [
      "(16, 42)\n"
     ]
    }
   ],
   "source": [
    "\n",
    "walking = {}\n",
    "keys3 = [\"walking_df1\",\"walking_df2\",\"walking_df3\",\"walking_df4\",\"walking_df5\",\"walking_df6\",\n",
    "        \"walking_df7\",\"walking_df8\",\"walking_df9\",\"walking_df10\",\"walking_df11\",\"walking_df12\",\n",
    "        \"walking_df13\",\"walking_df14\",\"walking_df15\"];\n",
    "i=1;\n",
    "\n",
    "for key in keys3:\n",
    "    walking[key] =  pd.read_csv(path + \"walking/dataset\"+str(i)+\".csv\", skiprows=4, header=0, names=col).values; \n",
    "    i=i+1;\n",
    "\n",
    "# we need to cal min, max, mean, standard deviation, first quartile and third quartile.\n",
    "x=[]\n",
    "I = [1,2,3,4,5,6];\n",
    "walking_data= [\"min1\",\"max1\",\"mean1\",\"std1\",\"median1\",\"1st quar1\",\"3rd quar1\",\n",
    "               \"min2\",\"max2\",\"mean2\",\"std2\",\"median2\",\"1st quar2\",\"3rd quar2\",\n",
    "               \"min3\",\"max3\",\"mean3\",\"std3\",\"median3\",\"1st quar3\",\"3rd quar3\",\n",
    "               \"min4\",\"max4\",\"mean4\",\"std4\",\"median4\",\"1st quar4\",\"3rd quar4\",\n",
    "               \"min5\",\"max5\",\"mean5\",\"std5\",\"median5\",\"1st quar5\",\"3rd quar5\",\n",
    "               \"min6\",\"max6\",\"mean6\",\"std6\",\"median6\",\"1st quar6\",\"3rd quar6\"];\n",
    "\n",
    "for key in keys3:\n",
    "    for i in I:\n",
    "        temp = [min(walking[key][:,i]), max(walking[key][:,i]), np.mean(walking[key][:,i]), np.std(walking[key][:,i]), \n",
    "          np.percentile(walking[key][:,i],50), np.percentile(walking[key][:,i],25), np.percentile(walking[key][:,i],75)]\n",
    "        x = x + temp;   \n",
    "    walking_data = np.vstack((walking_data,x));\n",
    "    x=[];\n",
    "    \n",
    "print(np.shape(walking_data))"
   ]
  },
  {
   "cell_type": "code",
   "execution_count": 115,
   "metadata": {},
   "outputs": [
    {
     "name": "stdout",
     "output_type": "stream",
     "text": [
      "(16, 42)\n"
     ]
    }
   ],
   "source": [
    "\n",
    "cycling = {}\n",
    "keys4 = [\"cycling_df1\",\"cycling_df2\",\"cycling_df3\",\"cycling_df4\",\"cycling_df5\",\"cycling_df6\",\n",
    "        \"cycling_df7\",\"cycling_df8\",\"cycling_df9\",\"cycling_df10\",\"cycling_df11\",\"cycling_df12\",\n",
    "        \"cycling_df13\",\"cycling_df14\",\"cycling_df15\"];\n",
    "i=1;\n",
    "\n",
    "for key in keys4:\n",
    "    cycling[key] =  pd.read_csv(path + \"cycling/dataset\"+str(i)+\".csv\", skiprows=4, header=0, names=col).values; \n",
    "    i=i+1;\n",
    "\n",
    "# we need to cal min, max, mean, standard deviation, first quartile and third quartile.\n",
    "x=[]\n",
    "I = [1,2,3,4,5,6];\n",
    "cycling_data= [\"min1\",\"max1\",\"mean1\",\"std1\",\"median1\",\"1st quar1\",\"3rd quar1\",\n",
    "               \"min2\",\"max2\",\"mean2\",\"std2\",\"median2\",\"1st quar2\",\"3rd quar2\",\n",
    "               \"min3\",\"max3\",\"mean3\",\"std3\",\"median3\",\"1st quar3\",\"3rd quar3\",\n",
    "               \"min4\",\"max4\",\"mean4\",\"std4\",\"median4\",\"1st quar4\",\"3rd quar4\",\n",
    "               \"min5\",\"max5\",\"mean5\",\"std5\",\"median5\",\"1st quar5\",\"3rd quar5\",\n",
    "               \"min6\",\"max6\",\"mean6\",\"std6\",\"median6\",\"1st quar6\",\"3rd quar6\"];\n",
    "\n",
    "for key in keys4:\n",
    "    for i in I:\n",
    "        temp = [min(cycling[key][:,i]), max(cycling[key][:,i]), np.mean(cycling[key][:,i]), np.std(cycling[key][:,i]), \n",
    "          np.percentile(cycling[key][:,i],50), np.percentile(cycling[key][:,i],25), np.percentile(cycling[key][:,i],75)]\n",
    "        x = x + temp;   \n",
    "    cycling_data = np.vstack((cycling_data,x));\n",
    "    x=[];\n",
    "    \n",
    "print(np.shape(cycling_data))\n"
   ]
  },
  {
   "cell_type": "code",
   "execution_count": 116,
   "metadata": {},
   "outputs": [
    {
     "name": "stdout",
     "output_type": "stream",
     "text": [
      "(16, 42)\n"
     ]
    }
   ],
   "source": [
    "\n",
    "sitting = {}\n",
    "keys3 = [\"sitting_df1\",\"sitting_df2\",\"sitting_df3\",\"sitting_df4\",\"sitting_df5\",\"sitting_df6\",\n",
    "        \"sitting_df7\",\"sitting_df8\",\"sitting_df9\",\"sitting_df10\",\"sitting_df11\",\"sitting_df12\",\n",
    "        \"sitting_df13\",\"sitting_df14\",\"sitting_df15\"];\n",
    "i=1;\n",
    "\n",
    "for key in keys3:\n",
    "    sitting[key] =  pd.read_csv(path + \"sitting/dataset\"+str(i)+\".csv\", skiprows=4, header=0, names=col).values; \n",
    "    i=i+1;\n",
    "\n",
    "# we need to cal min, max, mean, standard deviation, first quartile and third quartile.\n",
    "x=[]\n",
    "I = [1,2,3,4,5,6];\n",
    "sitting_data= [\"min1\",\"max1\",\"mean1\",\"std1\",\"median1\",\"1st quar1\",\"3rd quar1\",\n",
    "               \"min2\",\"max2\",\"mean2\",\"std2\",\"median2\",\"1st quar2\",\"3rd quar2\",\n",
    "               \"min3\",\"max3\",\"mean3\",\"std3\",\"median3\",\"1st quar3\",\"3rd quar3\",\n",
    "               \"min4\",\"max4\",\"mean4\",\"std4\",\"median4\",\"1st quar4\",\"3rd quar4\",\n",
    "               \"min5\",\"max5\",\"mean5\",\"std5\",\"median5\",\"1st quar5\",\"3rd quar5\",\n",
    "               \"min6\",\"max6\",\"mean6\",\"std6\",\"median6\",\"1st quar6\",\"3rd quar6\"];\n",
    "\n",
    "for key in keys3:\n",
    "    for i in I:\n",
    "        temp = [min(sitting[key][:,i]), max(sitting[key][:,i]), np.mean(sitting[key][:,i]), np.std(sitting[key][:,i]), \n",
    "          np.percentile(sitting[key][:,i],50), np.percentile(sitting[key][:,i],25), np.percentile(sitting[key][:,i],75)]\n",
    "        x = x + temp;   \n",
    "    sitting_data = np.vstack((sitting_data,x));\n",
    "    x=[];\n",
    "    \n",
    "print(np.shape(sitting_data))\n"
   ]
  },
  {
   "cell_type": "code",
   "execution_count": 117,
   "metadata": {},
   "outputs": [
    {
     "name": "stdout",
     "output_type": "stream",
     "text": [
      "(16, 42)\n"
     ]
    }
   ],
   "source": [
    "\n",
    "standing = {}\n",
    "keys3 = [\"standing_df1\",\"standing_df2\",\"standing_df3\",\"standing_df4\",\"standing_df5\",\"standing_df6\",\n",
    "        \"standing_df7\",\"standing_df8\",\"standing_df9\",\"standing_df10\",\"standing_df11\",\"standing_df12\",\n",
    "        \"standing_df13\",\"standing_df14\",\"standing_df15\"];\n",
    "i=1;\n",
    "\n",
    "for key in keys3:\n",
    "    standing[key] =  pd.read_csv(path + \"standing/dataset\"+str(i)+\".csv\", skiprows=4, header=0, names=col).values; \n",
    "    i=i+1;\n",
    "\n",
    "# we need to cal min, max, mean, standard deviation, first quartile and third quartile.\n",
    "x=[]\n",
    "I = [1,2,3,4,5,6];\n",
    "standing_data= [\"min1\",\"max1\",\"mean1\",\"std1\",\"median1\",\"1st quar1\",\"3rd quar1\",\n",
    "               \"min2\",\"max2\",\"mean2\",\"std2\",\"median2\",\"1st quar2\",\"3rd quar2\",\n",
    "               \"min3\",\"max3\",\"mean3\",\"std3\",\"median3\",\"1st quar3\",\"3rd quar3\",\n",
    "               \"min4\",\"max4\",\"mean4\",\"std4\",\"median4\",\"1st quar4\",\"3rd quar4\",\n",
    "               \"min5\",\"max5\",\"mean5\",\"std5\",\"median5\",\"1st quar5\",\"3rd quar5\",\n",
    "               \"min6\",\"max6\",\"mean6\",\"std6\",\"median6\",\"1st quar6\",\"3rd quar6\"];\n",
    "\n",
    "for key in keys3:\n",
    "    for i in I:\n",
    "        temp = [min(standing[key][:,i]), max(standing[key][:,i]), np.mean(standing[key][:,i]), np.std(standing[key][:,i]), \n",
    "          np.percentile(standing[key][:,i],50), np.percentile(standing[key][:,i],25), np.percentile(standing[key][:,i],75)]\n",
    "        x = x + temp;   \n",
    "    standing_data = np.vstack((standing_data,x));\n",
    "    x=[];\n",
    "    \n",
    "print(np.shape(standing_data))\n"
   ]
  },
  {
   "cell_type": "code",
   "execution_count": 118,
   "metadata": {},
   "outputs": [
    {
     "name": "stdout",
     "output_type": "stream",
     "text": [
      "(16, 42)\n"
     ]
    }
   ],
   "source": [
    "\n",
    "lying = {}\n",
    "keys3 = [\"lying_df1\",\"lying_df2\",\"lying_df3\",\"lying_df4\",\"lying_df5\",\"lying_df6\",\n",
    "        \"lying_df7\",\"lying_df8\",\"lying_df9\",\"lying_df10\",\"lying_df11\",\"lying_df12\",\n",
    "        \"lying_df13\",\"lying_df14\",\"lying_df15\"];\n",
    "i=1;\n",
    "\n",
    "for key in keys3:\n",
    "    lying[key] =  pd.read_csv(path + \"lying/dataset\"+str(i)+\".csv\", skiprows=4, header=0, names=col).values; \n",
    "    i=i+1;\n",
    "\n",
    "# we need to cal min, max, mean, standard deviation, first quartile and third quartile.\n",
    "x=[]\n",
    "I = [1,2,3,4,5,6];\n",
    "lying_data= [\"min1\",\"max1\",\"mean1\",\"std1\",\"median1\",\"1st quar1\",\"3rd quar1\",\n",
    "               \"min2\",\"max2\",\"mean2\",\"std2\",\"median2\",\"1st quar2\",\"3rd quar2\",\n",
    "               \"min3\",\"max3\",\"mean3\",\"std3\",\"median3\",\"1st quar3\",\"3rd quar3\",\n",
    "               \"min4\",\"max4\",\"mean4\",\"std4\",\"median4\",\"1st quar4\",\"3rd quar4\",\n",
    "               \"min5\",\"max5\",\"mean5\",\"std5\",\"median5\",\"1st quar5\",\"3rd quar5\",\n",
    "               \"min6\",\"max6\",\"mean6\",\"std6\",\"median6\",\"1st quar6\",\"3rd quar6\"];\n",
    "\n",
    "for key in keys3:\n",
    "    for i in I:\n",
    "        temp = [min(lying[key][:,i]), max(lying[key][:,i]), np.mean(lying[key][:,i]), np.std(lying[key][:,i]), \n",
    "          np.percentile(lying[key][:,i],50), np.percentile(lying[key][:,i],25), np.percentile(lying[key][:,i],75)]\n",
    "        x = x + temp;   \n",
    "    lying_data = np.vstack((lying_data,x));\n",
    "    x=[];\n",
    "    \n",
    "print(np.shape(lying_data))\n"
   ]
  },
  {
   "cell_type": "code",
   "execution_count": null,
   "metadata": {},
   "outputs": [],
   "source": []
  },
  {
   "cell_type": "code",
   "execution_count": null,
   "metadata": {},
   "outputs": [],
   "source": []
  }
 ],
 "metadata": {
  "kernelspec": {
   "display_name": "Python 3",
   "language": "python",
   "name": "python3"
  },
  "language_info": {
   "codemirror_mode": {
    "name": "ipython",
    "version": 3
   },
   "file_extension": ".py",
   "mimetype": "text/x-python",
   "name": "python",
   "nbconvert_exporter": "python",
   "pygments_lexer": "ipython3",
   "version": "3.7.3"
  }
 },
 "nbformat": 4,
 "nbformat_minor": 2
}
